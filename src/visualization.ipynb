{
 "cells": [
  {
   "cell_type": "code",
   "execution_count": 1,
   "metadata": {},
   "outputs": [
    {
     "name": "stderr",
     "output_type": "stream",
     "text": [
      "/home/xps/anaconda3/envs/deeplearning/lib/python3.9/site-packages/tqdm/auto.py:22: TqdmWarning: IProgress not found. Please update jupyter and ipywidgets. See https://ipywidgets.readthedocs.io/en/stable/user_install.html\n",
      "  from .autonotebook import tqdm as notebook_tqdm\n"
     ]
    }
   ],
   "source": [
    "import torch\n",
    "import torch.nn as nn\n",
    "from torchcrf import CRF\n",
    "import pandas as pd"
   ]
  },
  {
   "cell_type": "code",
   "execution_count": 31,
   "metadata": {},
   "outputs": [],
   "source": [
    "a = torch.rand(32, 8)\n",
    "b = torch.zeros([32, 8], dtype=torch.float)\n",
    "b[0, 0] = 1\n",
    "loss = nn.BCEWithLogitsLoss(reduction='none')(a, b)"
   ]
  },
  {
   "cell_type": "code",
   "execution_count": null,
   "metadata": {},
   "outputs": [],
   "source": [
    "# loss = torch.where(b != 0, loss, torch.tensor([0.]))\n",
    "loss"
   ]
  },
  {
   "cell_type": "code",
   "execution_count": 33,
   "metadata": {},
   "outputs": [],
   "source": [
    "loss = torch.where(b != 0, loss, loss*0.5)"
   ]
  },
  {
   "cell_type": "code",
   "execution_count": 37,
   "metadata": {},
   "outputs": [
    {
     "data": {
      "text/plain": [
       "torch.Size([32, 8])"
      ]
     },
     "execution_count": 37,
     "metadata": {},
     "output_type": "execute_result"
    }
   ],
   "source": [
    "loss.shape"
   ]
  },
  {
   "cell_type": "code",
   "execution_count": 44,
   "metadata": {},
   "outputs": [],
   "source": [
    "num_tags = 5  # number of tags is 5\n",
    "model = CRF(num_tags)"
   ]
  },
  {
   "cell_type": "code",
   "execution_count": 48,
   "metadata": {},
   "outputs": [],
   "source": [
    "seq_length = 3  # maximum sequence length in a batch\n",
    "batch_size = 2  # number of samples in the batch\n",
    "emissions = torch.randn(seq_length, batch_size, num_tags) #n_seq x batch x logits\n",
    "tags = torch.tensor([\n",
    "  [0, 1], [2, 4], [3, 1]\n",
    "], dtype=torch.long)  #nseq x batch\n",
    "loss = model(emissions, tags)\n",
    "\n"
   ]
  },
  {
   "cell_type": "code",
   "execution_count": 57,
   "metadata": {},
   "outputs": [],
   "source": [
    "a = torch.rand(30, 32, 142)\n",
    "b = torch.zeros(30, 32, dtype=torch.long)\n",
    "model = CRF(a.shape[-1])\n"
   ]
  },
  {
   "cell_type": "code",
   "execution_count": 58,
   "metadata": {},
   "outputs": [
    {
     "data": {
      "text/plain": [
       "tensor(-4717.1206, grad_fn=<SumBackward0>)"
      ]
     },
     "execution_count": 58,
     "metadata": {},
     "output_type": "execute_result"
    }
   ],
   "source": [
    "model(a, b)"
   ]
  },
  {
   "cell_type": "code",
   "execution_count": 5,
   "metadata": {},
   "outputs": [],
   "source": [
    "list = []\n",
    "name = ['train', 'test', 'dev']\n",
    "for i in name:\n",
    "    for label in open(\"/home/xps/educate/code/hust/XQA/docs/src/JointIDSF/PhoATIS/word-level\" + f'/{i}/label'):\n",
    "        if label.strip() not in list:\n",
    "            list.append(label.strip())"
   ]
  },
  {
   "cell_type": "code",
   "execution_count": 7,
   "metadata": {},
   "outputs": [
    {
     "data": {
      "text/plain": [
       "28"
      ]
     },
     "execution_count": 7,
     "metadata": {},
     "output_type": "execute_result"
    }
   ],
   "source": [
    "len(list)"
   ]
  },
  {
   "cell_type": "code",
   "execution_count": 9,
   "metadata": {},
   "outputs": [],
   "source": [
    "train = pd.read_csv(\"/home/xps/educate/code/hust/XQA/data/raw/ATIS/atis_intents_train.csv\", header=None)\n"
   ]
  },
  {
   "cell_type": "code",
   "execution_count": 14,
   "metadata": {},
   "outputs": [
    {
     "data": {
      "text/plain": [
       "(array(['atis_flight', 'atis_flight_time', 'atis_airfare', 'atis_aircraft',\n",
       "        'atis_ground_service', 'atis_airline', 'atis_abbreviation',\n",
       "        'atis_quantity'], dtype=object),\n",
       " 4834)"
      ]
     },
     "execution_count": 14,
     "metadata": {},
     "output_type": "execute_result"
    }
   ],
   "source": [
    "a = {'vietanh': 'ngu'}\n",
    "a.update({'vie anh': 'ocho'})"
   ]
  },
  {
   "cell_type": "code",
   "execution_count": 15,
   "metadata": {},
   "outputs": [
    {
     "data": {
      "text/plain": [
       "(array(['atis_flight', 'atis_airfare', 'atis_ground_service',\n",
       "        'atis_airline', 'atis_flight_time', 'atis_quantity',\n",
       "        'atis_abbreviation', 'atis_aircraft'], dtype=object),\n",
       " 800)"
      ]
     },
     "execution_count": 15,
     "metadata": {},
     "output_type": "execute_result"
    }
   ],
   "source": [
    "test = pd.read_csv(\"/home/xps/educate/code/hust/XQA/data/raw/ATIS/atis_intents_test.csv\", header=None)\n",
    "test[0].unique(), len(test)"
   ]
  },
  {
   "cell_type": "code",
   "execution_count": 7,
   "metadata": {},
   "outputs": [
    {
     "name": "stdout",
     "output_type": "stream",
     "text": [
      "tôi muốn một chuyến bay khứ_hồi từ đồng_hới đến côn_đảo khởi_hành vào thứ tư ngày 16 tháng 6 đến côn_đảo vào buổi tối khoảng 7 giờ và trở về đồng_hới vào buổi tối ngày hôm sau khoảng 7 giờ hãng hàng_không nào có chuyến bay phù_hợp với tuyến đường đó\n"
     ]
    }
   ],
   "source": [
    "lengths = {}\n",
    "with open(\"/home/xps/educate/code/hust/XQA/data/raw/PhoATIS/word-level/train/seq.in\", 'r') as f:\n",
    "    for line in f.readlines():\n",
    "        if len(line.strip().split(' ')) not in lengths.keys():\n",
    "            lengths[len(line.strip().split(' '))] = 1\n",
    "        else:\n",
    "            lengths[len(line.strip().split(' '))] += 1 \n",
    "        if len(line.strip().split(' ')) == 50:\n",
    "            print(line.strip()) \n",
    "    "
   ]
  },
  {
   "cell_type": "code",
   "execution_count": null,
   "metadata": {},
   "outputs": [],
   "source": [
    "sorted(lengths, key = lambda d: lengths[d])"
   ]
  },
  {
   "cell_type": "code",
   "execution_count": 1,
   "metadata": {},
   "outputs": [],
   "source": [
    "import os "
   ]
  },
  {
   "cell_type": "code",
   "execution_count": 2,
   "metadata": {},
   "outputs": [
    {
     "data": {
      "text/plain": [
       "'hoctro'"
      ]
     },
     "execution_count": 2,
     "metadata": {},
     "output_type": "execute_result"
    }
   ],
   "source": [
    "os.path.basename('/hoa/hoctro')"
   ]
  },
  {
   "cell_type": "code",
   "execution_count": 1,
   "metadata": {},
   "outputs": [
    {
     "name": "stderr",
     "output_type": "stream",
     "text": [
      "/home/xps/anaconda3/envs/deeplearning/lib/python3.9/site-packages/tqdm/auto.py:22: TqdmWarning: IProgress not found. Please update jupyter and ipywidgets. See https://ipywidgets.readthedocs.io/en/stable/user_install.html\n",
      "  from .autonotebook import tqdm as notebook_tqdm\n",
      "Special tokens have been added in the vocabulary, make sure the associated word embeddings are fine-tuned or trained.\n"
     ]
    }
   ],
   "source": [
    "import pandas as pd\n",
    "os.environ['dir'] = \"/home/xps/educate/code/hust/XQA/data\"\n",
    "from utils.preprocess import string2list, get_label\n",
    "from collections import Counter\n",
    "from transformers import AutoTokenizer\n",
    "import torch\n",
    "\n",
    "data_dir = os.environ['dir']\n",
    "raw_dir = data_dir + '/data/raw/PhoATIS'\n",
    "processed_dir = data_dir + '/data/processed/PhoATIS'\n",
    "qa_processed = data_dir + '/data/processed/QA'\n",
    "tokenizer = AutoTokenizer.from_pretrained('bert-base-cased')"
   ]
  },
  {
   "cell_type": "code",
   "execution_count": 2,
   "metadata": {},
   "outputs": [],
   "source": [
    "train_df = pd.read_csv(\"/home/xps/educate/code/hust/XQA/data/processed/QA/train.csv\")"
   ]
  },
  {
   "cell_type": "code",
   "execution_count": 3,
   "metadata": {},
   "outputs": [],
   "source": [
    "test_df = pd.read_csv(\"/home/xps/educate/code/hust/XQA/data/processed/QA/test.csv\")"
   ]
  },
  {
   "cell_type": "code",
   "execution_count": 4,
   "metadata": {},
   "outputs": [],
   "source": [
    "dev_df = pd.read_csv(\"/home/xps/educate/code/hust/XQA/data/processed/QA/dev.csv\")"
   ]
  },
  {
   "cell_type": "code",
   "execution_count": 5,
   "metadata": {},
   "outputs": [
    {
     "name": "stdout",
     "output_type": "stream",
     "text": [
      "[449, 450, 450, 449]\n",
      "[449, 450, 450, 449]\n",
      "[469, 470, 471, 470]\n",
      "[469, 470, 471, 470]\n",
      "[469, 470, 471, 470]\n",
      "[144, 143, 143, 143]\n",
      "[144, 143, 143, 143]\n",
      "[144, 143, 143, 143]\n",
      "[577, 470, 471, 577]\n",
      "[115, 116, 115, 115]\n",
      "[115, 116, 115, 115]\n",
      "[115, 116, 115, 115]\n",
      "[412, 413, 413, 413]\n",
      "[67, 68, 68, 67]\n",
      "[67, 68, 68, 67]\n",
      "[491, 491, 490, 491]\n",
      "[474, 474, 475, 474]\n",
      "[474, 474, 475, 474]\n",
      "[474, 474, 475, 474]\n",
      "[304, 297, 298, 297]\n",
      "[304, 297, 298, 297]\n",
      "[285, 286, 286, 285]\n",
      "[285, 286, 286, 285]\n",
      "[464, 463, 463, 463]\n",
      "[464, 463, 463, 463]\n",
      "[464, 463, 463, 463]\n",
      "[44, 43, 43, 43]\n",
      "[44, 43, 43, 43]\n",
      "[44, 43, 43, 43]\n",
      "[109, 104, 108, 109]\n",
      "[441, 440, 440, 440]\n",
      "[441, 440, 440, 440]\n",
      "[441, 440, 440, 440]\n",
      "[524, 523, 524, 523]\n",
      "[524, 523, 524, 523]\n",
      "[193, 194, 194, 194]\n",
      "[92, 93, 93, 93]\n",
      "[189, 190, 190, 189]\n",
      "[189, 190, 190, 189]\n",
      "[368, 369, 369, 369]\n",
      "[882, 879, 883, 882]\n",
      "[882, 879, 883, 882]\n",
      "[50, 51, 50, 50]\n",
      "[50, 51, 50, 50]\n",
      "[50, 51, 50, 50]\n",
      "[455, 456, 455, 455]\n",
      "[455, 456, 455, 455]\n",
      "[455, 456, 455, 455]\n",
      "[613, 613, 614, 613]\n",
      "[613, 613, 614, 613]\n",
      "[613, 613, 614, 613]\n",
      "[106, 105, 105, 105]\n",
      "[106, 105, 105, 105]\n",
      "[106, 105, 105, 105]\n",
      "[419, 420, 420, 420]\n",
      "[51, 118, 52, 51]\n",
      "[51, 118, 52, 51]\n",
      "[340, 341, 347, 340]\n",
      "[340, 341, 347, 340]\n",
      "[197, 198, 198, 198]\n",
      "[265, 266, 266, 266]\n",
      "[422, 428, 427, 428]\n",
      "[699, 700, 700, 700]\n",
      "[691, 692, 692, 692]\n",
      "[531, 541, 532, 541]\n",
      "[833, 834, 834, 834]\n",
      "[723, 724, 724, 724]\n",
      "[336, 366, 337, 336]\n",
      "[336, 366, 337, 336]\n",
      "[654, 655, 655, 655]\n"
     ]
    }
   ],
   "source": [
    "run = True\n",
    "for i in range(len(dev_df)):\n",
    "    q, a, c, t = dev_df.iloc[i][['question', 'start', 'context', 'text']]\n",
    "    a, t = string2list(a, 'int'), string2list(t)\n",
    "    for i in range(len(a)):\n",
    "        if a[i] + 1 in a:\n",
    "            print(a)"
   ]
  },
  {
   "cell_type": "code",
   "execution_count": 6,
   "metadata": {},
   "outputs": [
    {
     "data": {
      "text/plain": [
       "('Nổi tiếng với tên gọi Kinh đô ánh sáng, Paris là một trung tâm văn hóa lớn của thế giới và cũng là một trong những thành phố du lịch thu hút nhất. Sự nhộn nhịp, các công trình kiến trúc và không khí nghệ sĩ đã giúp Paris mỗi năm có đến 30 triệu khách nước ngoài. Thành phố còn được xem như kinh đô của thời trang cao cấp với nhiều khu phố xa xỉ cùng các trung tâm thương mại lớn. Là nơi đặt trụ sở chính của các tổ chức quốc tế như OECD, UNESCO... cộng với những hoạt động đa dạng về tài chính, kinh doanh, chính trị và du lịch đã khiến Paris trở thành một trong những trung tâm trung chuyển lớn nhất trên thế giới và được coi như một trong bốn \"thành phố toàn cầu\" cùng với New York, Luân Đôn và Tokyo.',\n",
       " '@@@mỗi năm có đến 30 triệu khách nước ngoài@@@Kinh đô ánh sáng@@@Kinh đô ánh sáng@@@Kinh đô ánh sáng',\n",
       " '[221, 22, 22, 22]',\n",
       " 'Điều gì đã nói lên Paris là thành phố lý tưởng để khách du lịch?')"
      ]
     },
     "execution_count": 6,
     "metadata": {},
     "output_type": "execute_result"
    }
   ],
   "source": [
    "i = 5\n",
    "q, a, c, t = dev_df.iloc[i][['question', 'start', 'context', 'text']]\n",
    "c, t, a, q"
   ]
  },
  {
   "cell_type": "code",
   "execution_count": 5,
   "metadata": {},
   "outputs": [],
   "source": [
    "# def get_label(input, text, start):\n",
    "\n",
    "#     sequence_ids = input.sequence_ids()\n",
    "#     idx = 0\n",
    "#     while sequence_ids[idx] != 1:\n",
    "#             idx += 1\n",
    "#     context_start = idx\n",
    "#     while sequence_ids[idx] == 1:\n",
    "#             idx += 1\n",
    "#     context_end = idx - 1\n",
    "#     offset = input['offset_mapping']\n",
    "    \n",
    "\n",
    "#     start_positions, end_positions = [], []\n",
    "#     start_positions = []\n",
    "#     end_positions = []\n",
    "#     start_char = start\n",
    "#     end_char = start + len(text)\n",
    "#     offset = input['offset_mapping'][0]\n",
    "#     if offset[context_start][0] > start_char or offset[context_end][1] < end_char:\n",
    "#         start_positions.append(0)\n",
    "#         end_positions.append(0)\n",
    "#     else:\n",
    "#         # Otherwise it's the start and end token positions\n",
    "#         idx = context_start\n",
    "#         while idx <= context_end and offset[idx][0] <= start_char:\n",
    "#             idx += 1\n",
    "#         start_positions.append(idx - 1)\n",
    "#         idx = context_end\n",
    "#         while idx >= context_start and offset[idx][1] >= end_char:\n",
    "#             idx -= 1\n",
    "#         end_positions.append(idx + 1)\n",
    "\n",
    " \n",
    "#     return torch.tensor(start_positions, dtype=torch.long), torch.tensor(end_positions, dtype=torch.long)"
   ]
  },
  {
   "cell_type": "code",
   "execution_count": 5,
   "metadata": {},
   "outputs": [],
   "source": [
    "run = True\n",
    "for i in range(len(train_df)):\n",
    "    q, a, c, t = train_df.iloc[i][['question', 'start', 'context', 'text']]\n",
    "    # input = tokenizer(q.strip(), c, return_tensors='pt',\n",
    "    #             max_length=386,\n",
    "    #             truncation=\"only_second\",\n",
    "    #             return_offsets_mapping=True,\n",
    "    #             padding=\"max_length\",)\n",
    "    a, t = string2list(a, 'int'), string2list(t)\n",
    "    start, end = 0, 0\n",
    "    for i in range(len(a)):\n",
    "        s, e = get_label(input, t[0], a[0])\n",
    "        if e < s:\n",
    "            print(\"???\", s, e)\n",
    "            run = False\n",
    "            break\n",
    "        start += s \n",
    "        end += e\n",
    "    # if start == 0 or end == 0:\n",
    "    #     q, c, a, t = q, c, a, t\n",
    "    #     run = False\n",
    "    #     break\n",
    "    if not run:\n",
    "        break\n",
    "        \n",
    "    \n",
    "\n",
    "\n"
   ]
  },
  {
   "cell_type": "code",
   "execution_count": 20,
   "metadata": {},
   "outputs": [
    {
     "data": {
      "text/plain": [
       "('Đối tượng nào đã ra tay với tờ báo Charlie Hebdo vào năm 2015?',\n",
       " 'Vào ngày 7 tháng năm 2015, hai kẻ Hồi giáo cực đoan tấn công trụ sở của tờ báo Charlie Hebdo và giết chết mười ba người và vào ngày 9 tháng 1, một tên khủng bố thứ ba, tuyên bố y là một thành viên của ISIS, đã giết chết bốn con tin trong cuộc tấn công vào một cửa hàng tạp hóa của người Do Thái ở Porte de Vincennes. Một loạt các cuộc tuần hành diễn ra ở các thành phố trên toàn nước Pháp vào ngày 10 và 11 tháng 1 năm 2015 để tưởng niệm các nạn nhân của vụ tấn công Charlie Hebdo, vụ nổ súng tại Montrouge, và cuộc khủng hoảng con tin Porte de Vincennes, đồng thời lên tiếng ủng hộ cho tự do ngôn luận, tự do báo chí và chống chủ nghĩa khủng bố. Các quan chức Pháp ước tính rằng các cuộc tuần hành đã có sự tham gia của khoảng bốn triệu người dân cả nước, trở thành đợt tuần hành công cộng lớn nhất tại Pháp kể từ năm 1944, khi Paris được giải phóng khỏi tay Đức Quốc xã vào cuối cuộc Chiến tranh thế giới thứ hai.',\n",
       " 'hai kẻ Hồi giáo cực đoan',\n",
       " 27,\n",
       " 'hai kẻ Hồi giáo cực đoan tấn công trụ sở của tờ báo Charlie Hebdo và giết chết mười ba người và vào ngày 9 tháng 1, một tên khủng bố thứ ba, tuyên bố y là một thành viên của ISIS, đã giết chết bốn con tin trong cuộc tấn công vào một cửa hàng tạp hóa của người Do Thái ở Porte de Vincennes. Một loạt các cuộc tuần hành diễn ra ở các thành phố trên toàn nước Pháp vào ngày 10 và 11 tháng 1 năm 2015 để tưởng niệm các nạn nhân của vụ tấn công Charlie Hebdo, vụ nổ súng tại Montrouge, và cuộc khủng hoảng con tin Porte de Vincennes, đồng thời lên tiếng ủng hộ cho tự do ngôn luận, tự do báo chí và chống chủ nghĩa khủng bố. Các quan chức Pháp ước tính rằng các cuộc tuần hành đã có sự tham gia của khoảng bốn triệu người dân cả nước, trở thành đợt tuần hành công cộng lớn nhất tại Pháp kể từ năm 1944, khi Paris được giải phóng khỏi tay Đức Quốc xã vào cuối cuộc Chiến tranh thế giới thứ hai.')"
      ]
     },
     "execution_count": 20,
     "metadata": {},
     "output_type": "execute_result"
    }
   ],
   "source": [
    "i = 100\n",
    "q, a, c, t = dev_df.iloc[i][['question', 'start', 'context', 'text']]\n",
    "input = tokenizer(q.strip(), c, return_tensors='pt',\n",
    "            max_length=500,\n",
    "            truncation=\"only_second\",\n",
    "            return_offsets_mapping=True,\n",
    "            padding=\"max_length\",)\n",
    "a, t = string2list(a, 'int'), string2list(t)\n",
    "q, c, t[0], a[0], c[a[0]:]"
   ]
  },
  {
   "cell_type": "code",
   "execution_count": 35,
   "metadata": {},
   "outputs": [],
   "source": [
    "def char2idx(start, end, context):\n",
    "    subtext = context[start:end+1]\n",
    "    subtext2 = context[start:end+2]\n",
    "\n",
    "    for i in range(len(context.split())):\n",
    "        if context.split()[i] == subtext.split()[0] and context.split()[i+len(subtext.split())-1] == subtext.split()[-1]:\n",
    "            return i, i+len(subtext.split()) - 1\n",
    "        elif context.split()[i] == subtext2.split()[0] and context.split()[i+len(subtext2.split())-1] == subtext2.split()[-1]:\n",
    "            return i, i+len(subtext2.split()) - 1 \n",
    "def offset2length(offset_map, context=None):\n",
    "    word_lengths = []\n",
    "    length = 1\n",
    "    debug = []\n",
    "    offset_map = [i for i in offset_map if i.sum() != 0]\n",
    "    \n",
    "    for idx in range(1, len(offset_map)-1):\n",
    "        word = \"\"\n",
    "        if offset_map[idx][1] == offset_map[idx+1][0]:\n",
    "            length += 1\n",
    "            word += context[offset_map[idx][0]:offset_map[idx][1]]\n",
    "            print(word)\n",
    "        else:\n",
    "            debug += \" \" + word\n",
    "            word_lengths.append(length)\n",
    "            word = \"\"\n",
    "            length = 1\n",
    "    # return word_lengths\n",
    "    return debug\n",
    "def QA_metrics(start, end, start_idx, end_idx, input, tokenizer):\n",
    "    '''\n",
    "    EM and F1 score for text output\n",
    "    start = b x n\n",
    "    '''\n",
    "    EM = 0\n",
    "    F1 = 0\n",
    "    for i in range(start.shape[0]):\n",
    "        pred = tokenizer.decode(input.input_ids[0][start[i]:end[i]+1])\n",
    "        true = tokenizer.decode(input.input_ids[0][start_idx[i]:end_idx[i]+1])\n",
    "        if pred == true:\n",
    "            EM += 1 \n",
    "        sum = 0\n",
    "        text = pred if len(pred.split()) < len(true.split()) else true\n",
    "        for i in range(len(text.split())):\n",
    "            if pred.split()[i] == true.split()[i]:\n",
    "                sum += 1 \n",
    "        precision = sum/len(pred.split())\n",
    "        recall = sum/len(true.split())\n",
    "        F1 += 2/(1/precision + 1/recall)\n",
    "    return EM/start.shape[0], F1/start.shape[0]\n",
    "    \n",
    "\n",
    "\n",
    "def get_label(input, text, start, reverse=False, max_length=300, context=None, question=None):\n",
    "    '''\n",
    "    we can make use of original sequence or sub_word sequence (tokenized for labelling)\n",
    "    - non-reverse: use the mapping to map start and end idx\n",
    "    - reverse: og start and end idx, and word lengths for mapping, use context for get start and end\n",
    "    '''\n",
    "\n",
    "    if reverse:\n",
    "        start_positions, end_positions = start, start + len(text) - 1\n",
    "        start_positions, end_positions = char2idx(start_positions, end_positions, context)\n",
    "        offset_mapping = input.offset_mapping[0]\n",
    "        word_lengths = offset2length(offset_mapping)\n",
    "        # while len(word_lengths) < max_length:\n",
    "        #     word_lengths.append(1)\n",
    "        return torch.tensor(start_positions, dtype=torch.long), torch.tensor(end_positions, dtype=torch.long), torch.tensor(word_lengths, dtype=torch.long)\n",
    "\n",
    "        \n",
    "\n",
    "\n",
    "\n",
    "        \n",
    "\n",
    "        \n",
    "        \n",
    "\n",
    "\n",
    "\n",
    "    sequence_ids = input.sequence_ids()\n",
    "    idx = 0\n",
    "    while sequence_ids[idx] != 1:\n",
    "            idx += 1\n",
    "    context_start = idx\n",
    "    while sequence_ids[idx] == 1 and idx < len(sequence_ids) - 1:\n",
    "            idx += 1\n",
    "    context_end = idx - 1\n",
    "    offset = input['offset_mapping']\n",
    "    \n",
    "\n",
    "    start_positions, end_positions = 0, 0\n",
    "    start_char = start\n",
    "    end_char = start + len(text)\n",
    "    offset = input['offset_mapping'][0]\n",
    "    if offset[context_start][0] > start_char or offset[context_end][1] < end_char:\n",
    "        start_positions = 0\n",
    "        end_positions = 0\n",
    "    else:\n",
    "        # Otherwise it's the start and end token positions\n",
    "        idx = context_start\n",
    "        while idx <= context_end and offset[idx][0] <= start_char:\n",
    "            idx += 1\n",
    "        start_positions = idx - 1\n",
    "        idx = context_end\n",
    "        while idx >= context_start and offset[idx][1] >= end_char:\n",
    "            idx -= 1\n",
    "        end_positions = idx + 1\n",
    "\n",
    "\n",
    " \n",
    "    return torch.tensor(start_positions, dtype=torch.long), torch.tensor(end_positions, dtype=torch.long)"
   ]
  },
  {
   "cell_type": "code",
   "execution_count": 36,
   "metadata": {},
   "outputs": [
    {
     "name": "stdout",
     "output_type": "stream",
     "text": [
      "à\n",
      "n\n",
      "g\n",
      "à\n",
      " \n",
      "t\n",
      "n\n",
      "n\n",
      " 2\n",
      "5\n",
      ",\n",
      "a\n",
      "k\n",
      "ẻ\n",
      "cự\n",
      "c\n",
      "a\n",
      "n\n",
      "ấ\n",
      "n\n",
      "ông \n",
      "V\n",
      "à\n",
      "ng\n",
      "à\n",
      "th\n",
      "án\n",
      "n\n",
      "ă\n",
      "2015\n",
      "ha\n",
      "H\n",
      "ồ\n",
      "g\n",
      "i\n",
      "á\n",
      "c\n",
      "ự\n",
      "đ\n",
      "t\n",
      "ấ\n",
      "c\n",
      "ô\n",
      "t\n",
      "r\n",
      "c\n",
      "ủ\n",
      "t\n",
      "b\n",
      "á\n",
      "He\n",
      "b\n",
      "v\n",
      "g\n",
      "i\n",
      "ế\n",
      "ch\n",
      "ế\n",
      "m\n",
      "ư\n",
      "ờ\n",
      "b\n",
      "ng\n",
      "ư\n",
      "ờ\n",
      "v\n",
      "v\n",
      "à\n",
      "ng\n",
      "à\n",
      "th\n",
      "án\n",
      "1\n",
      "m\n",
      "ộ\n",
      "t\n",
      "ê\n",
      "k\n",
      "h\n",
      "ủ\n",
      "b\n",
      "th\n",
      "b\n",
      "a\n",
      "t\n",
      "uy\n",
      "ê\n",
      "b\n",
      "l\n",
      "m\n",
      "ộ\n",
      "th\n",
      "à\n",
      "v\n",
      "i\n",
      "ê\n",
      "c\n",
      "ủ\n",
      "IS\n",
      "IS\n",
      "đ\n",
      "g\n",
      "i\n",
      "ế\n",
      "ch\n",
      "ế\n",
      "b\n",
      "ố\n",
      "t\n",
      "cu\n",
      "ộ\n",
      "t\n",
      "ấ\n",
      "c\n",
      "ô\n",
      "v\n",
      "à\n",
      "m\n",
      "ộ\n",
      "c\n",
      "ử\n",
      "h\n",
      "à\n",
      "t\n",
      "ạ\n",
      "h\n",
      "ó\n",
      "c\n",
      "ủ\n",
      "ng\n",
      "ư\n",
      "ờ\n",
      "T\n",
      "h\n",
      "á\n",
      "Port\n",
      "Vince\n",
      "nnes\n",
      "M\n",
      "ộ\n",
      "lo\n",
      "ạ\n",
      "c\n",
      "á\n",
      "cu\n",
      "ộ\n",
      "t\n",
      "u\n",
      "ầ\n",
      "h\n",
      "à\n",
      "di\n",
      "ễ\n",
      "r\n",
      "c\n",
      "á\n",
      "th\n",
      "à\n",
      "p\n",
      "h\n",
      "t\n",
      "r\n",
      "ê\n",
      "to\n",
      "à\n",
      "n\n",
      "ư\n",
      "ớ\n",
      "Ph\n",
      "á\n",
      "v\n",
      "à\n",
      "ng\n",
      "à\n",
      "v\n",
      "th\n",
      "án\n",
      "n\n",
      "ă\n",
      "đ\n",
      "ni\n",
      "ệ\n",
      "c\n",
      "á\n",
      "n\n",
      "ạ\n",
      "n\n",
      "h\n",
      "c\n",
      "ủ\n",
      "v\n",
      "t\n",
      "ấ\n",
      "c\n",
      "ô\n",
      "He\n",
      "b\n",
      "do\n",
      "v\n",
      "n\n",
      "s\n",
      "ún\n",
      "t\n",
      "ạ\n",
      "Mont\n",
      "rou\n",
      "ge\n",
      "v\n",
      "cu\n",
      "ộ\n",
      "k\n",
      "h\n",
      "ủ\n",
      "ho\n",
      "ả\n",
      "Port\n",
      "Vince\n",
      "nnes\n",
      "đ\n",
      "ồ\n",
      "th\n",
      "ờ\n",
      "l\n",
      "ê\n",
      "t\n",
      "i\n",
      "ế\n",
      "ủ\n",
      "h\n",
      "ch\n",
      "t\n",
      "ng\n",
      "ô\n",
      "l\n",
      "u\n",
      "ậ\n",
      "n\n",
      "t\n",
      "b\n",
      "á\n",
      "ch\n",
      "v\n",
      "ch\n",
      "ố\n",
      "ch\n",
      "ng\n",
      "h\n",
      "ĩ\n",
      "k\n",
      "h\n",
      "ủ\n",
      "b\n",
      "ố\n",
      "C\n",
      "á\n",
      "q\n",
      "ch\n",
      "ứ\n",
      "Ph\n",
      "á\n",
      "ư\n",
      "ớ\n",
      "t\n",
      "ín\n",
      "c\n",
      "á\n",
      "cu\n",
      "ộ\n",
      "t\n",
      "u\n",
      "ầ\n",
      "h\n",
      "à\n",
      "đ\n",
      "c\n",
      "s\n",
      "th\n",
      "g\n",
      "c\n",
      "ủ\n",
      "k\n",
      "ho\n",
      "ả\n",
      "b\n",
      "ố\n",
      "t\n",
      "ri\n",
      "ệ\n",
      "ng\n",
      "ư\n",
      "ờ\n",
      "d\n",
      "c\n",
      "n\n",
      "ư\n",
      "ớ\n",
      "c\n",
      "th\n",
      "à\n",
      "đ\n",
      "ợ\n",
      "t\n",
      "u\n",
      "ầ\n",
      "h\n",
      "à\n",
      "c\n",
      "ô\n"
     ]
    },
    {
     "data": {
      "text/plain": [
       "'                                                                                                                                                                                           '"
      ]
     },
     "execution_count": 36,
     "metadata": {},
     "output_type": "execute_result"
    }
   ],
   "source": [
    "# char2idx(a[0], a[0]+len(t[0])-1, c), c[a[0]:a[0]+len(t[0])]\n",
    "# s, e, w = get_label(input, t[0], a[0], reverse=True, context=c, question=q)\n",
    "# len(w), len((q + \" \" + c).split())\n",
    "offset2length(input.offset_mapping[0], context=c)"
   ]
  },
  {
   "cell_type": "code",
   "execution_count": null,
   "metadata": {},
   "outputs": [],
   "source": []
  }
 ],
 "metadata": {
  "kernelspec": {
   "display_name": "Python 3.9.12 ('deeplearning')",
   "language": "python",
   "name": "python3"
  },
  "language_info": {
   "codemirror_mode": {
    "name": "ipython",
    "version": 3
   },
   "file_extension": ".py",
   "mimetype": "text/x-python",
   "name": "python",
   "nbconvert_exporter": "python",
   "pygments_lexer": "ipython3",
   "version": "3.9.12"
  },
  "orig_nbformat": 4,
  "vscode": {
   "interpreter": {
    "hash": "73fdcbcaa6b22d852c0f9bd9783ab6b1b1c25c52a0a8da76beae07513436cb85"
   }
  }
 },
 "nbformat": 4,
 "nbformat_minor": 2
}
