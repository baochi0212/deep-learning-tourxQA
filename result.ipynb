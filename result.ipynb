{
 "cells": [
  {
   "attachments": {},
   "cell_type": "markdown",
   "metadata": {},
   "source": [
    "DATASET\n"
   ]
  },
  {
   "cell_type": "code",
   "execution_count": 1,
   "metadata": {},
   "outputs": [],
   "source": [
    "idsf_path = \"/home/xps/educate/code/hust/XQA/data/processed/IDSF/phoATIS\"\n",
    "qa_path = \"/home/xps/educate/code/hust/XQA/data/processed/QA\""
   ]
  },
  {
   "cell_type": "code",
   "execution_count": 18,
   "metadata": {},
   "outputs": [],
   "source": [
    "from glob import glob \n",
    "import matplotlib.pyplot as plt\n",
    "import seaborn as sns\n",
    "import numpy as np\n",
    "import pandas as pd"
   ]
  },
  {
   "cell_type": "code",
   "execution_count": 21,
   "metadata": {},
   "outputs": [
    {
     "data": {
      "text/plain": [
       "5871"
      ]
     },
     "execution_count": 21,
     "metadata": {},
     "output_type": "execute_result"
    }
   ],
   "source": [
    "#split \n",
    "stat = {'train': 0, 'test': 0, 'dev': 0}\n",
    "for file in glob(idsf_path + \"/*/seq.in\"):\n",
    "    with open(file, 'r') as f:\n",
    "        for key in stat.keys():\n",
    "            if key in file:\n",
    "                stat[key] = len(f.readlines())\n",
    "\n",
    "sum(stat.values())\n"
   ]
  },
  {
   "cell_type": "code",
   "execution_count": 16,
   "metadata": {},
   "outputs": [
    {
     "data": {
      "image/png": "[encoded data removed]",
      "text/plain": [
       "<Figure size 432x288 with 1 Axes>"
      ]
     },
     "metadata": {},
     "output_type": "display_data"
    }
   ],
   "source": [
    "fig, ax = plt.subplots(\n",
    ")\n",
    "bar = stat.values()\n",
    "x = np.arange(len(bar))\n",
    "ax.barh(x, bar, 0.5, label=stat.values(), color='red')\n",
    "ax.set_yticks([0, 1, 2])\n",
    "ax.set_yticklabels(stat.keys())\n",
    "sns.set_style(\"white\")\n",
    "\n",
    "fig.show()"
   ]
  },
  {
   "cell_type": "code",
   "execution_count": 22,
   "metadata": {},
   "outputs": [
    {
     "data": {
      "text/plain": [
       "23074"
      ]
     },
     "execution_count": 22,
     "metadata": {},
     "output_type": "execute_result"
    }
   ],
   "source": [
    "#split \n",
    "stat = {'train': 0, 'test': 0, 'dev': 0}\n",
    "for file in glob(qa_path + \"/*.csv\"):\n",
    "    with open(file, 'r') as f:\n",
    "        for key in stat.keys():\n",
    "            if key in file:\n",
    "                stat[key] = len(pd.read_csv(file))\n",
    "sum(stat.values())"
   ]
  },
  {
   "cell_type": "code",
   "execution_count": 23,
   "metadata": {},
   "outputs": [
    {
     "data": {
      "image/png": "[encoded data removed]",
      "text/plain": [
       "<Figure size 432x288 with 1 Axes>"
      ]
     },
     "metadata": {},
     "output_type": "display_data"
    }
   ],
   "source": [
    "fig, ax = plt.subplots(\n",
    ")\n",
    "bar = stat.values()\n",
    "x = np.arange(len(bar))\n",
    "ax.barh(x, bar, 0.5, label=stat.values(), color='green')\n",
    "ax.set_yticks([0, 1, 2])\n",
    "ax.set_yticklabels(stat.keys())\n",
    "sns.set_style(\"white\")\n",
    "\n",
    "fig.show()"
   ]
  },
  {
   "cell_type": "code",
   "execution_count": 26,
   "metadata": {},
   "outputs": [
    {
     "data": {
      "image/png": "[encoded data removed]",
      "text/plain": [
       "<Figure size 432x288 with 1 Axes>"
      ]
     },
     "metadata": {},
     "output_type": "display_data"
    }
   ],
   "source": [
    "#RESULT:\n",
    "markers = ['*', 'x', '+', 'v', '>']\n",
    "fig, ax = plt.subplots()\n",
    "accuracy = [0.6741321388577828, 0.6394176931690929, 0.7166853303471444, 0.7200447928331467, 0.8622620380739082]\n",
    "model = ['gru', 'lstm', 'distill', 'roberta', 'phobert-pretrained']\n",
    "for i in range(len(model)):\n",
    "    ax.scatter(i, accuracy[i], label=model[i], marker='*')\n",
    "ax.legend()\n",
    "fig.show()\n"
   ]
  },
  {
   "cell_type": "code",
   "execution_count": null,
   "metadata": {},
   "outputs": [],
   "source": []
  }
 ],
 "metadata": {
  "kernelspec": {
   "display_name": "deeplearning",
   "language": "python",
   "name": "python3"
  },
  "language_info": {
   "codemirror_mode": {
    "name": "ipython",
    "version": 3
   },
   "file_extension": ".py",
   "mimetype": "text/x-python",
   "name": "python",
   "nbconvert_exporter": "python",
   "pygments_lexer": "ipython3",
   "version": "3.9.12"
  },
  "orig_nbformat": 4,
  "vscode": {
   "interpreter": {
    "hash": "73fdcbcaa6b22d852c0f9bd9783ab6b1b1c25c52a0a8da76beae07513436cb85"
   }
  }
 },
 "nbformat": 4,
 "nbformat_minor": 2
}
