{
 "cells": [
  {
   "attachments": {},
   "cell_type": "markdown",
   "metadata": {},
   "source": [
    "DATASET\n"
   ]
  },
  {
   "cell_type": "code",
   "execution_count": 6,
   "metadata": {},
   "outputs": [
    {
     "ename": "NameError",
     "evalue": "name 'matplotlib' is not defined",
     "output_type": "error",
     "traceback": [
      "\u001b[0;31m---------------------------------------------------------------------------\u001b[0m",
      "\u001b[0;31mNameError\u001b[0m                                 Traceback (most recent call last)",
      "\u001b[1;32m/home/xps/educate/code/hust/XQA/result.ipynb Cell 2\u001b[0m in \u001b[0;36m<cell line: 3>\u001b[0;34m()\u001b[0m\n\u001b[1;32m      <a href='vscode-notebook-cell://wsl%2Bubuntu-20.04/home/xps/educate/code/hust/XQA/result.ipynb#W1sdnNjb2RlLXJlbW90ZQ%3D%3D?line=0'>1</a>\u001b[0m idsf_path \u001b[39m=\u001b[39m \u001b[39m\"\u001b[39m\u001b[39m/home/xps/educate/code/hust/XQA/data/processed/IDSF/phoATIS\u001b[39m\u001b[39m\"\u001b[39m\n\u001b[1;32m      <a href='vscode-notebook-cell://wsl%2Bubuntu-20.04/home/xps/educate/code/hust/XQA/result.ipynb#W1sdnNjb2RlLXJlbW90ZQ%3D%3D?line=1'>2</a>\u001b[0m qa_path \u001b[39m=\u001b[39m \u001b[39m\"\u001b[39m\u001b[39m/home/xps/educate/code/hust/XQA/data/processed/QA\u001b[39m\u001b[39m\"\u001b[39m\n\u001b[0;32m----> <a href='vscode-notebook-cell://wsl%2Bubuntu-20.04/home/xps/educate/code/hust/XQA/result.ipynb#W1sdnNjb2RlLXJlbW90ZQ%3D%3D?line=2'>3</a>\u001b[0m matplotlib\u001b[39m.\u001b[39mrcParams[\u001b[39m\"\u001b[39m\u001b[39mfigure.dpi\u001b[39m\u001b[39m\"\u001b[39m] \u001b[39m=\u001b[39m \u001b[39m100\u001b[39m\n",
      "\u001b[0;31mNameError\u001b[0m: name 'matplotlib' is not defined"
     ]
    }
   ],
   "source": [
    "idsf_path = \"/home/xps/educate/code/hust/XQA/data/processed/IDSF/phoATIS\"\n",
    "qa_path = \"/home/xps/educate/code/hust/XQA/data/processed/QA\"\n"
   ]
  },
  {
   "cell_type": "code",
   "execution_count": 7,
   "metadata": {},
   "outputs": [],
   "source": [
    "from glob import glob \n",
    "import matplotlib.pyplot as plt\n",
    "import seaborn as sns\n",
    "import numpy as np\n",
    "import pandas as pd\n",
    "plt.rcParams[\"figure.dpi\"] = 100"
   ]
  },
  {
   "cell_type": "code",
   "execution_count": 21,
   "metadata": {},
   "outputs": [
    {
     "data": {
      "text/plain": [
       "5871"
      ]
     },
     "execution_count": 21,
     "metadata": {},
     "output_type": "execute_result"
    }
   ],
   "source": [
    "#split \n",
    "stat = {'train': 0, 'test': 0, 'dev': 0}\n",
    "for file in glob(idsf_path + \"/*/seq.in\"):\n",
    "    with open(file, 'r') as f:\n",
    "        for key in stat.keys():\n",
    "            if key in file:\n",
    "                stat[key] = len(f.readlines())\n",
    "\n",
    "sum(stat.values())\n"
   ]
  },
  {
   "cell_type": "code",
   "execution_count": 16,
   "metadata": {},
   "outputs": [
    {
     "data": {
      "image/png": "[encoded data removed]",
      "text/plain": [
       "<Figure size 432x288 with 1 Axes>"
      ]
     },
     "metadata": {},
     "output_type": "display_data"
    }
   ],
   "source": [
    "fig, ax = plt.subplots(\n",
    ")\n",
    "bar = stat.values()\n",
    "x = np.arange(len(bar))\n",
    "ax.barh(x, bar, 0.5, label=stat.values(), color='red')\n",
    "ax.set_yticks([0, 1, 2])\n",
    "ax.set_yticklabels(stat.keys())\n",
    "sns.set_style(\"white\")\n",
    "\n",
    "fig.show()"
   ]
  },
  {
   "cell_type": "code",
   "execution_count": 22,
   "metadata": {},
   "outputs": [
    {
     "data": {
      "text/plain": [
       "23074"
      ]
     },
     "execution_count": 22,
     "metadata": {},
     "output_type": "execute_result"
    }
   ],
   "source": [
    "#split \n",
    "stat = {'train': 0, 'test': 0, 'dev': 0}\n",
    "for file in glob(qa_path + \"/*.csv\"):\n",
    "    with open(file, 'r') as f:\n",
    "        for key in stat.keys():\n",
    "            if key in file:\n",
    "                stat[key] = len(pd.read_csv(file))\n",
    "sum(stat.values())"
   ]
  },
  {
   "cell_type": "code",
   "execution_count": 23,
   "metadata": {},
   "outputs": [
    {
     "data": {
      "image/png": "[encoded data removed]",
      "text/plain": [
       "<Figure size 432x288 with 1 Axes>"
      ]
     },
     "metadata": {},
     "output_type": "display_data"
    }
   ],
   "source": [
    "fig, ax = plt.subplots(\n",
    ")\n",
    "bar = stat.values()\n",
    "x = np.arange(len(bar))\n",
    "ax.barh(x, bar, 0.5, label=stat.values(), color='green')\n",
    "ax.set_yticks([0, 1, 2])\n",
    "ax.set_yticklabels(stat.keys())\n",
    "sns.set_style(\"white\")\n",
    "\n",
    "fig.show()"
   ]
  },
  {
   "cell_type": "code",
   "execution_count": 8,
   "metadata": {},
   "outputs": [
    {
     "data": {
      "image/png": "[encoded data removed]",
      "text/plain": [
       "<Figure size 600x400 with 1 Axes>"
      ]
     },
     "metadata": {
      "needs_background": "light"
     },
     "output_type": "display_data"
    }
   ],
   "source": [
    "#RESULT:\n",
    "markers = ['*', 'x', '+', 'v', '>']\n",
    "fig, ax = plt.subplots()\n",
    "accuracy = [0.76, 0.78, 0.78, 0.86]\n",
    "model = ['lstm', 'gru', 'roberta', 'phobert-distill', 'phobert']\n",
    "for i in range(len(model)):\n",
    "    ax.scatter(i, accuracy[i], label=model[i], marker=markers[i])\n",
    "ax.plot(np.arange(len(model)), accuracy, linestyle='dashed', color='pink')\n",
    "ax.legend()\n",
    "ax.set_xticks([])\n",
    "fig.show()\n"
   ]
  },
  {
   "cell_type": "code",
   "execution_count": null,
   "metadata": {},
   "outputs": [],
   "source": []
  }
 ],
 "metadata": {
  "kernelspec": {
   "display_name": "deeplearning",
   "language": "python",
   "name": "python3"
  },
  "language_info": {
   "codemirror_mode": {
    "name": "ipython",
    "version": 3
   },
   "file_extension": ".py",
   "mimetype": "text/x-python",
   "name": "python",
   "nbconvert_exporter": "python",
   "pygments_lexer": "ipython3",
   "version": "3.9.12"
  },
  "orig_nbformat": 4,
  "vscode": {
   "interpreter": {
    "hash": "73fdcbcaa6b22d852c0f9bd9783ab6b1b1c25c52a0a8da76beae07513436cb85"
   }
  }
 },
 "nbformat": 4,
 "nbformat_minor": 2
}
